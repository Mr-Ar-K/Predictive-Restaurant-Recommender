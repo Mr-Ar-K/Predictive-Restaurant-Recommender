{
 "cells": [
  {
   "cell_type": "code",
   "execution_count": 1,
   "id": "80231c2b",
   "metadata": {},
   "outputs": [
    {
     "name": "stdout",
     "output_type": "stream",
     "text": [
      "Requirement already satisfied: lightgbm in /usr/local/python/3.12.1/lib/python3.12/site-packages (4.6.0)\n",
      "Requirement already satisfied: numpy>=1.17.0 in /home/codespace/.local/lib/python3.12/site-packages (from lightgbm) (2.3.1)\n",
      "Requirement already satisfied: scipy in /home/codespace/.local/lib/python3.12/site-packages (from lightgbm) (1.16.0)\n",
      "Note: you may need to restart the kernel to use updated packages.\n",
      "Note: you may need to restart the kernel to use updated packages.\n"
     ]
    }
   ],
   "source": [
    "# Install lightgbm if not already installed\n",
    "%pip install lightgbm"
   ]
  },
  {
   "cell_type": "markdown",
   "id": "56877e42",
   "metadata": {},
   "source": [
    "# Import the libraries"
   ]
  },
  {
   "cell_type": "code",
   "execution_count": 2,
   "id": "f1c6f34d",
   "metadata": {},
   "outputs": [
    {
     "name": "stdout",
     "output_type": "stream",
     "text": [
      "added\n"
     ]
    }
   ],
   "source": [
    "import pandas as pd\n",
    "import numpy as np\n",
    "import lightgbm as lgb\n",
    "from sklearn.model_selection import train_test_split\n",
    "from sklearn.preprocessing import LabelEncoder\n",
    "print(\"added\")"
   ]
  },
  {
   "cell_type": "markdown",
   "id": "064487fc",
   "metadata": {},
   "source": [
    "### Loading of the train data"
   ]
  },
  {
   "cell_type": "code",
   "execution_count": 3,
   "id": "474b2d71",
   "metadata": {},
   "outputs": [
    {
     "name": "stdout",
     "output_type": "stream",
     "text": [
      "Loading data...\n",
      "Data loaded successfully.\n",
      "Data loaded successfully.\n"
     ]
    }
   ],
   "source": [
    "# Load the dataset\n",
    "print(\"Loading data...\")\n",
    "try:\n",
    "    train_orders = pd.read_csv('Train/orders.csv', low_memory=False)\n",
    "    train_customers = pd.read_csv('Train/train_customers.csv')\n",
    "    train_locations = pd.read_csv('Train/train_locations.csv')\n",
    "    vendors = pd.read_csv('Train/vendors.csv')\n",
    "except FileNotFoundError as e:\n",
    "    print(f\"Error: {e}. Make sure all CSV files are in the same directory as the script.\")\n",
    "    exit()\n",
    "\n",
    "print(\"Data loaded successfully.\")"
   ]
  },
  {
   "cell_type": "code",
   "execution_count": 4,
   "id": "4c8dcf9c",
   "metadata": {},
   "outputs": [
    {
     "name": "stdout",
     "output_type": "stream",
     "text": [
      "Loading data...\n"
     ]
    },
    {
     "name": "stderr",
     "output_type": "stream",
     "text": [
      "/tmp/ipykernel_21665/2751923399.py:5: DtypeWarning: Columns (15,16,18,19,20) have mixed types. Specify dtype option on import or set low_memory=False.\n",
      "  train_orders = pd.read_csv('Train/orders.csv')\n"
     ]
    },
    {
     "name": "stdout",
     "output_type": "stream",
     "text": [
      "Preparing and merging data...\n",
      "\n",
      "Columns in train_merged:\n",
      "['order_id', 'customer_id', 'item_count', 'grand_total', 'payment_mode', 'promo_code', 'vendor_discount_amount', 'promo_code_discount_percentage', 'is_favorite', 'is_rated', 'vendor_rating_x', 'driver_rating', 'deliverydistance', 'preparationtime', 'delivery_time', 'order_accepted_time', 'driver_accepted_time', 'ready_for_pickup_time', 'picked_up_time', 'delivered_time', 'delivery_date', 'vendor_id', 'created_at_x', 'LOCATION_NUMBER', 'LOCATION_TYPE', 'CID X LOC_NUM X VENDOR', 'gender', 'dob', 'status', 'verified_x', 'language_x', 'created_at_y', 'updated_at_x', 'id', 'authentication_id', 'vendor_lat', 'vendor_lon', 'vendor_category_en', 'vendor_category_id', 'delivery_charge', 'serving_distance', 'is_open', 'OpeningTime', 'OpeningTime2', 'prepration_time', 'commission', 'is_haked_delivering', 'discount_percentage', 'vendor_status', 'verified_y', 'rank', 'language_y', 'vendor_rating_y', 'sunday_from_time1', 'sunday_to_time1', 'sunday_from_time2', 'sunday_to_time2', 'monday_from_time1', 'monday_to_time1', 'monday_from_time2', 'monday_to_time2', 'tuesday_from_time1', 'tuesday_to_time1', 'tuesday_from_time2', 'tuesday_to_time2', 'wednesday_from_time1', 'wednesday_to_time1', 'wednesday_from_time2', 'wednesday_to_time2', 'thursday_from_time1', 'thursday_to_time1', 'thursday_from_time2', 'thursday_to_time2', 'friday_from_time1', 'friday_to_time1', 'friday_from_time2', 'friday_to_time2', 'saturday_from_time1', 'saturday_to_time1', 'saturday_from_time2', 'saturday_to_time2', 'primary_tags', 'open_close_flags', 'vendor_tag', 'vendor_tag_name', 'one_click_vendor', 'country_id', 'city_id', 'created_at', 'updated_at_y', 'device_type', 'display_orders', 'location_number', 'location_type', 'customer_lat', 'customer_lon']\n",
      "\n",
      "--- Training Data Ready ---\n",
      "Final training data has 395867 rows and 22 columns.\n",
      "Columns: ['customer_id', 'vendor_id', 'gender', 'dob', 'status', 'created_at_x', 'vendor_category_en', 'delivery_charge', 'serving_distance', 'is_open', 'prepration_time', 'commission', 'discount_percentage', 'vendor_status', 'rank', 'vendor_tag_name', 'is_favorite', 'LOCATION_TYPE', 'customer_lat', 'customer_lon', 'vendor_lat', 'vendor_lon']\n",
      "\n",
      "Sample of the final training data:\n",
      "  customer_id  vendor_id gender  dob  status   created_at_x  \\\n",
      "0     KL09J9N         84   Male  NaN     1.0  8/2/2024 5:33   \n",
      "1     KL09J9N         84   Male  NaN     1.0  8/2/2024 5:33   \n",
      "2     KL09J9N         84   Male  NaN     1.0  8/2/2024 5:33   \n",
      "3     KL09J9N         84   Male  NaN     1.0  8/2/2024 5:33   \n",
      "4     H5LGGFX         78   Male  NaN     1.0  8/2/2024 5:34   \n",
      "\n",
      "  vendor_category_en  delivery_charge  serving_distance  is_open  ...  \\\n",
      "0        Restaurants              0.0                15        1  ...   \n",
      "1        Restaurants              0.0                15        1  ...   \n",
      "2        Restaurants              0.0                15        1  ...   \n",
      "3        Restaurants              0.0                15        1  ...   \n",
      "4        Restaurants              0.7                15        0  ...   \n",
      "\n",
      "   discount_percentage  vendor_status  rank  \\\n",
      "0                    0              1    11   \n",
      "1                    0              1    11   \n",
      "2                    0              1    11   \n",
      "3                    0              1    11   \n",
      "4                    0              0    11   \n",
      "\n",
      "                                     vendor_tag_name  is_favorite  \\\n",
      "0                   Burgers,Fries,Kids meal,Shawarma          NaN   \n",
      "1                   Burgers,Fries,Kids meal,Shawarma          NaN   \n",
      "2                   Burgers,Fries,Kids meal,Shawarma          NaN   \n",
      "3                   Burgers,Fries,Kids meal,Shawarma          NaN   \n",
      "4  Pizzas,Italian,Breakfast,Soups,Pasta,Salads,De...          NaN   \n",
      "\n",
      "  LOCATION_TYPE customer_lat customer_lon  vendor_lat  vendor_lon  \n",
      "0          Work    -0.090650   -78.580196   -1.004923    0.078736  \n",
      "1          Work    -0.676098   -78.511007   -1.004923    0.078736  \n",
      "2          Work   -96.407541    43.557974   -1.004923    0.078736  \n",
      "3          Work    -0.089966     0.874226   -1.004923    0.078736  \n",
      "4          Home     1.733950   -78.795830   -0.555404    0.196336  \n",
      "\n",
      "[5 rows x 22 columns]\n",
      "\n",
      "Columns in train_merged:\n",
      "['order_id', 'customer_id', 'item_count', 'grand_total', 'payment_mode', 'promo_code', 'vendor_discount_amount', 'promo_code_discount_percentage', 'is_favorite', 'is_rated', 'vendor_rating_x', 'driver_rating', 'deliverydistance', 'preparationtime', 'delivery_time', 'order_accepted_time', 'driver_accepted_time', 'ready_for_pickup_time', 'picked_up_time', 'delivered_time', 'delivery_date', 'vendor_id', 'created_at_x', 'LOCATION_NUMBER', 'LOCATION_TYPE', 'CID X LOC_NUM X VENDOR', 'gender', 'dob', 'status', 'verified_x', 'language_x', 'created_at_y', 'updated_at_x', 'id', 'authentication_id', 'vendor_lat', 'vendor_lon', 'vendor_category_en', 'vendor_category_id', 'delivery_charge', 'serving_distance', 'is_open', 'OpeningTime', 'OpeningTime2', 'prepration_time', 'commission', 'is_haked_delivering', 'discount_percentage', 'vendor_status', 'verified_y', 'rank', 'language_y', 'vendor_rating_y', 'sunday_from_time1', 'sunday_to_time1', 'sunday_from_time2', 'sunday_to_time2', 'monday_from_time1', 'monday_to_time1', 'monday_from_time2', 'monday_to_time2', 'tuesday_from_time1', 'tuesday_to_time1', 'tuesday_from_time2', 'tuesday_to_time2', 'wednesday_from_time1', 'wednesday_to_time1', 'wednesday_from_time2', 'wednesday_to_time2', 'thursday_from_time1', 'thursday_to_time1', 'thursday_from_time2', 'thursday_to_time2', 'friday_from_time1', 'friday_to_time1', 'friday_from_time2', 'friday_to_time2', 'saturday_from_time1', 'saturday_to_time1', 'saturday_from_time2', 'saturday_to_time2', 'primary_tags', 'open_close_flags', 'vendor_tag', 'vendor_tag_name', 'one_click_vendor', 'country_id', 'city_id', 'created_at', 'updated_at_y', 'device_type', 'display_orders', 'location_number', 'location_type', 'customer_lat', 'customer_lon']\n",
      "\n",
      "--- Training Data Ready ---\n",
      "Final training data has 395867 rows and 22 columns.\n",
      "Columns: ['customer_id', 'vendor_id', 'gender', 'dob', 'status', 'created_at_x', 'vendor_category_en', 'delivery_charge', 'serving_distance', 'is_open', 'prepration_time', 'commission', 'discount_percentage', 'vendor_status', 'rank', 'vendor_tag_name', 'is_favorite', 'LOCATION_TYPE', 'customer_lat', 'customer_lon', 'vendor_lat', 'vendor_lon']\n",
      "\n",
      "Sample of the final training data:\n",
      "  customer_id  vendor_id gender  dob  status   created_at_x  \\\n",
      "0     KL09J9N         84   Male  NaN     1.0  8/2/2024 5:33   \n",
      "1     KL09J9N         84   Male  NaN     1.0  8/2/2024 5:33   \n",
      "2     KL09J9N         84   Male  NaN     1.0  8/2/2024 5:33   \n",
      "3     KL09J9N         84   Male  NaN     1.0  8/2/2024 5:33   \n",
      "4     H5LGGFX         78   Male  NaN     1.0  8/2/2024 5:34   \n",
      "\n",
      "  vendor_category_en  delivery_charge  serving_distance  is_open  ...  \\\n",
      "0        Restaurants              0.0                15        1  ...   \n",
      "1        Restaurants              0.0                15        1  ...   \n",
      "2        Restaurants              0.0                15        1  ...   \n",
      "3        Restaurants              0.0                15        1  ...   \n",
      "4        Restaurants              0.7                15        0  ...   \n",
      "\n",
      "   discount_percentage  vendor_status  rank  \\\n",
      "0                    0              1    11   \n",
      "1                    0              1    11   \n",
      "2                    0              1    11   \n",
      "3                    0              1    11   \n",
      "4                    0              0    11   \n",
      "\n",
      "                                     vendor_tag_name  is_favorite  \\\n",
      "0                   Burgers,Fries,Kids meal,Shawarma          NaN   \n",
      "1                   Burgers,Fries,Kids meal,Shawarma          NaN   \n",
      "2                   Burgers,Fries,Kids meal,Shawarma          NaN   \n",
      "3                   Burgers,Fries,Kids meal,Shawarma          NaN   \n",
      "4  Pizzas,Italian,Breakfast,Soups,Pasta,Salads,De...          NaN   \n",
      "\n",
      "  LOCATION_TYPE customer_lat customer_lon  vendor_lat  vendor_lon  \n",
      "0          Work    -0.090650   -78.580196   -1.004923    0.078736  \n",
      "1          Work    -0.676098   -78.511007   -1.004923    0.078736  \n",
      "2          Work   -96.407541    43.557974   -1.004923    0.078736  \n",
      "3          Work    -0.089966     0.874226   -1.004923    0.078736  \n",
      "4          Home     1.733950   -78.795830   -0.555404    0.196336  \n",
      "\n",
      "[5 rows x 22 columns]\n",
      "\n",
      "Merged training data saved to Train/train_merged.csv\n",
      "\n",
      "Merged training data saved to Train/train_merged.csv\n"
     ]
    }
   ],
   "source": [
    "print(\"Loading data...\")\n",
    "\n",
    "try:\n",
    "    # --- Load all source files ---\n",
    "    train_orders = pd.read_csv('Train/orders.csv')\n",
    "    train_customers = pd.read_csv('Train/train_customers.csv')\n",
    "    train_locations = pd.read_csv('Train/train_locations.csv')\n",
    "    vendors = pd.read_csv('Train/vendors.csv')\n",
    "\n",
    "except FileNotFoundError as e:\n",
    "    print(f\"Error loading data: {e}\")\n",
    "    print(\"Please ensure all CSV files are in the correct 'Train/' subdirectory.\")\n",
    "    exit()\n",
    "\n",
    "print(\"Preparing and merging data...\")\n",
    "\n",
    "# --- Rename columns BEFORE merging to avoid confusion ('_x', '_y') ---\n",
    "vendors.rename(columns={\n",
    "    'latitude': 'vendor_lat',\n",
    "    'longitude': 'vendor_lon',\n",
    "    'status': 'vendor_status',\n",
    "    'rating': 'vendor_rating'\n",
    "}, inplace=True)\n",
    "\n",
    "train_locations.rename(columns={\n",
    "    'latitude': 'customer_lat',\n",
    "    'longitude': 'customer_lon'\n",
    "}, inplace=True)\n",
    "\n",
    "# --- Merge all training data sources ---\n",
    "# Start with orders and add details about the customer, vendor, and location\n",
    "train_merged = train_orders.merge(train_customers, on='customer_id', how='left')\n",
    "train_merged = train_merged.merge(vendors, left_on='vendor_id', right_on='id', how='left')\n",
    "train_merged = train_merged.merge(\n",
    "    train_locations,\n",
    "    on=['customer_id'],  # Only merge on customer_id\n",
    "    how='left'\n",
    ")\n",
    "\n",
    "# Debug: print columns to check for missing/misnamed columns\n",
    "print(\"\\nColumns in train_merged:\")\n",
    "print(train_merged.columns.tolist())\n",
    "\n",
    "# --- Define the specific columns required for training a model ---\n",
    "# These features are known at the time of prediction and avoid data leakage\n",
    "required_columns = [\n",
    "    # --- IDs (for context, not as model features) ---\n",
    "    'customer_id',\n",
    "    'vendor_id',\n",
    "    # 'LOCATION_NUMBER',  # Remove if not present\n",
    "\n",
    "    # --- Customer Features ---\n",
    "    'gender',\n",
    "    'dob',                         # To calculate customer age\n",
    "    'status',                      # Customer account status\n",
    "    'created_at_x',                # To calculate customer tenure (from customers table)\n",
    "\n",
    "    # --- Vendor Features ---\n",
    "    'vendor_category_en',\n",
    "    'delivery_charge',\n",
    "    'serving_distance',\n",
    "    'is_open',\n",
    "    'prepration_time',             # Vendor's average preparation time\n",
    "    'commission',\n",
    "    'discount_percentage',\n",
    "    'vendor_status',               # Vendor's account status\n",
    "    'rank',\n",
    "    # 'vendor_rating',               # Vendor's overall historical rating (removed)\n",
    "    'vendor_tag_name',             # Descriptive tags like 'Healthy', 'Pizza'\n",
    "\n",
    "    # --- Location & Interaction Features ---\n",
    "    'is_favorite',                 # If the customer has favorited this vendor\n",
    "    'LOCATION_TYPE',               # e.g., 'Home', 'Work'\n",
    "    'customer_lat',\n",
    "    'customer_lon',\n",
    "    'vendor_lat',\n",
    "    'vendor_lon',\n",
    "]\n",
    "\n",
    "# --- Create the final training dataframe with only the required columns ---\n",
    "# Keep all rows, even those with missing values\n",
    "final_training_df = train_merged[required_columns].reset_index(drop=True)\n",
    "\n",
    "print(\"\\n--- Training Data Ready ---\")\n",
    "print(f\"Final training data has {final_training_df.shape[0]} rows and {final_training_df.shape[1]} columns.\")\n",
    "print(\"Columns:\", final_training_df.columns.tolist())\n",
    "print(\"\\nSample of the final training data:\")\n",
    "print(final_training_df.head())\n",
    "\n",
    "# Save the final DataFrame to CSV\n",
    "final_training_df.to_csv('Train/train_merged.csv', index=False)\n",
    "print(\"\\nMerged training data saved to Train/train_merged.csv\")\n"
   ]
  },
  {
   "cell_type": "code",
   "execution_count": null,
   "id": "5c71514e",
   "metadata": {},
   "outputs": [],
   "source": []
  },
  {
   "cell_type": "code",
   "execution_count": null,
   "id": "fe7cfdd5",
   "metadata": {},
   "outputs": [],
   "source": []
  }
 ],
 "metadata": {
  "kernelspec": {
   "display_name": "Python 3",
   "language": "python",
   "name": "python3"
  },
  "language_info": {
   "codemirror_mode": {
    "name": "ipython",
    "version": 3
   },
   "file_extension": ".py",
   "mimetype": "text/x-python",
   "name": "python",
   "nbconvert_exporter": "python",
   "pygments_lexer": "ipython3",
   "version": "3.12.1"
  }
 },
 "nbformat": 4,
 "nbformat_minor": 5
}
